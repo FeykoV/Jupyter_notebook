{
 "cells": [
  {
   "cell_type": "code",
   "execution_count": null,
   "metadata": {},
   "outputs": [],
   "source": []
  },
  {
   "cell_type": "markdown",
   "metadata": {},
   "source": [
    "## Практическое задание 1. «Оформление ноутбука и закрепление функций и генераторов»\n",
    "\n",
    "#### 1.1. Оформление ноутбука\n",
    "- Номер задачи - заголовок 2\n",
    "- Номер подзадачи - заголовок 3\n",
    "- Предоставленные наборы данных оформляйте, как код"
   ]
  },
  {
   "cell_type": "markdown",
   "metadata": {},
   "source": [
    "## Задача 1\n",
    "\n",
    "\n",
    "### Подзадача 1.1\n",
    "\n",
    "` пример кода `"
   ]
  }
 ],
 "metadata": {
  "language_info": {
   "name": "python"
  },
  "orig_nbformat": 4
 },
 "nbformat": 4,
 "nbformat_minor": 2
}
