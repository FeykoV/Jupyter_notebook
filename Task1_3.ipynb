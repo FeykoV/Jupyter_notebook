{
 "cells": [
  {
   "cell_type": "markdown",
   "metadata": {},
   "source": [
    "## Задание 3\n",
    "\n",
    "#### 1.3. Дан список с затратами на рекламу. Но в данных есть ошибки,\n",
    "#### некоторые затраты имеют отрицательную величину. Удалите такие значения\n",
    "#### из списка и посчитайте суммарные затраты. Используйте list comprehensions.  \n",
    "\n",
    "Примеры/Тесты:\n",
    "\n",
    "        [-12, 100, 0, 125, -90, 0, 345, 655, -1, 0, 200] -> [100, 0, 125, 0, 345, 655, 0, 200]\n",
    "\n",
    "```(*)``` **Усложнение.** Удалите отрицательные значения из списка, а нулевые значения замените на None\n",
    "Примеры/Тесты:\n",
    "\n",
    "        [-12, 100, 0, 125, -90, 0, 345, 655, -1, 0, 200] -> [100, None, 125, None, 345, 655, None, 200]"
   ]
  },
  {
   "cell_type": "code",
   "execution_count": 13,
   "metadata": {},
   "outputs": [
    {
     "name": "stdout",
     "output_type": "stream",
     "text": [
      "[100, 0, 125, 0, 345, 655, 0, 200]\n",
      "1425\n"
     ]
    }
   ],
   "source": [
    "list_cost = [-12, 100, 0, 125, -90, 0, 345, 655, -1, 0, 200]\n",
    "list_cost_positively = [i for i in list_cost if i >= 0 ]\n",
    "print(list_cost_positively)\n",
    "print(sum(list_cost_positively))\n"
   ]
  }
 ],
 "metadata": {
  "kernelspec": {
   "display_name": "Python 3",
   "language": "python",
   "name": "python3"
  },
  "language_info": {
   "codemirror_mode": {
    "name": "ipython",
    "version": 3
   },
   "file_extension": ".py",
   "mimetype": "text/x-python",
   "name": "python",
   "nbconvert_exporter": "python",
   "pygments_lexer": "ipython3",
   "version": "3.11.3"
  },
  "orig_nbformat": 4
 },
 "nbformat": 4,
 "nbformat_minor": 2
}
